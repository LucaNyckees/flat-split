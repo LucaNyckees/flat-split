{
 "cells": [
  {
   "cell_type": "code",
   "execution_count": 1,
   "metadata": {},
   "outputs": [
    {
     "data": {
      "application/vnd.jupyter.widget-view+json": {
       "model_id": "aaff90bb1e2e47a3a56b0a8a451641eb",
       "version_major": 2,
       "version_minor": 0
      },
      "text/plain": [
       "FloatSlider(value=3.0, description='a', max=4.0, min=2.0, step=0.01)"
      ]
     },
     "metadata": {},
     "output_type": "display_data"
    },
    {
     "data": {
      "application/vnd.jupyter.widget-view+json": {
       "model_id": "b96580086e8645739aed4a06f87829dd",
       "version_major": 2,
       "version_minor": 0
      },
      "text/plain": [
       "FigureWidget({\n",
       "    'data': [{'marker': {'color': 'skyblue'},\n",
       "              'text': [910.45 CHF, 910.45 CHF, 870.04 CHF, 627.04 CHF, 627.04 CHF],\n",
       "              'textposition': 'outside',\n",
       "              'type': 'bar',\n",
       "              'uid': '8dfdce7c-7c8e-4ecd-b9b3-7689cd944e6f',\n",
       "              'x': [Luca, Sam, Travis Fimmel, Yann, Georgi],\n",
       "              'y': {'bdata': 'FvsJ/JFzjEAW+wn8kXOMQFHG7tpKMItAwqF+lkiYg0DCoX6WSJiDQA==', 'dtype': 'f8'}}],\n",
       "    'layout': {'height': 500,\n",
       "               'template': '...',\n",
       "               'title': {'text': 'Distribution for a = 3.00 (Total: CHF 3945)'},\n",
       "               'xaxis': {'title': {'text': 'Names'}},\n",
       "               'yaxis': {'range': [0, 1000], 'title': {'text': 'Amount (CHF)'}}}\n",
       "})"
      ]
     },
     "metadata": {},
     "output_type": "display_data"
    }
   ],
   "source": [
    "import numpy as np\n",
    "import plotly.graph_objects as go\n",
    "import ipywidgets as widgets\n",
    "from IPython.display import display\n",
    "\n",
    "# Define the p functions\n",
    "def p1(a): return 63/5 + a*10.5 + ((54 - 23.3*a)/7.7)*5.7/3\n",
    "def p4(a): return 63/5 + a*12.8/2 + ((54 - 23.3*a)/7.7)*4/2\n",
    "def p5(a): return p4(a)\n",
    "\n",
    "# Normalize to make sum = 1 and apply correction\n",
    "def normalize_p(a):\n",
    "    raw_p1 = p1(a)\n",
    "    raw_p2 = p1(a)\n",
    "    raw_p3 = p1(a)\n",
    "    raw_p4 = p4(a)\n",
    "    raw_p5 = p5(a)\n",
    "    total = raw_p1 + raw_p2 + raw_p3 + raw_p4 + raw_p5\n",
    "    raw_p3 -= 40 / 3945 * total\n",
    "    new_total = raw_p1 + raw_p2 + raw_p3 + raw_p4 + raw_p5\n",
    "    return np.array([raw_p1, raw_p2, raw_p3, raw_p4, raw_p5]) / new_total\n",
    "\n",
    "# Names for display\n",
    "names = ['Luca', 'Sam', 'Travis Fimmel', 'Yann', 'Georgi']\n",
    "\n",
    "# Initial values\n",
    "a_init = 3\n",
    "initial_vals = normalize_p(a_init) * 3945\n",
    "\n",
    "# Create a FigureWidget\n",
    "fig = go.FigureWidget(\n",
    "    data=[go.Bar(x=names, y=initial_vals, text=[f'{v:.2f} CHF' for v in initial_vals],\n",
    "                 textposition='outside', marker_color='skyblue')],\n",
    "    layout=go.Layout(\n",
    "        title=f'Distribution for a = {a_init:.2f} (Total: CHF {int(initial_vals.sum())})',\n",
    "        yaxis=dict(range=[0, 1000], title='Amount (CHF)'),\n",
    "        xaxis=dict(title='Names'),\n",
    "        height=500\n",
    "    )\n",
    ")\n",
    "\n",
    "# Create slider\n",
    "slider = widgets.FloatSlider(value=a_init, min=2, max=4, step=0.01, description='a')\n",
    "\n",
    "# Callback to update the plot\n",
    "def update_plot(change):\n",
    "    a_val = change['new']\n",
    "    new_vals = normalize_p(a_val) * 3945\n",
    "    fig.data[0].y = new_vals\n",
    "    fig.data[0].text = [f'{v:.2f} CHF' for v in new_vals]\n",
    "    fig.layout.title = f'Distribution for a = {a_val:.2f} (Total: CHF {int(new_vals.sum())})'\n",
    "\n",
    "slider.observe(update_plot, names='value')\n",
    "\n",
    "# Display everything\n",
    "display(slider, fig)\n"
   ]
  },
  {
   "cell_type": "code",
   "execution_count": null,
   "metadata": {},
   "outputs": [],
   "source": []
  }
 ],
 "metadata": {
  "kernelspec": {
   "display_name": "venv",
   "language": "python",
   "name": "python3"
  },
  "language_info": {
   "codemirror_mode": {
    "name": "ipython",
    "version": 3
   },
   "file_extension": ".py",
   "mimetype": "text/x-python",
   "name": "python",
   "nbconvert_exporter": "python",
   "pygments_lexer": "ipython3",
   "version": "3.10.0"
  }
 },
 "nbformat": 4,
 "nbformat_minor": 2
}
